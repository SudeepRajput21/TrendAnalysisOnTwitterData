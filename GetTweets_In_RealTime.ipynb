{
 "cells": [
  {
   "cell_type": "markdown",
   "id": "fuzzy-montgomery",
   "metadata": {},
   "source": [
    "## Get Tweets in Real Time using Twitter API"
   ]
  },
  {
   "cell_type": "code",
   "execution_count": 17,
   "id": "improved-richmond",
   "metadata": {},
   "outputs": [],
   "source": [
    "import tweepy\n",
    "\n",
    "from tweepy import OAuthHandler\n",
    "\n",
    "from tweepy import Stream\n",
    "\n",
    "from tweepy.streaming import StreamListener"
   ]
  },
  {
   "cell_type": "code",
   "execution_count": 18,
   "id": "industrial-thread",
   "metadata": {},
   "outputs": [],
   "source": [
    "import socket\n",
    "import json"
   ]
  },
  {
   "cell_type": "code",
   "execution_count": 19,
   "id": "continuing-grass",
   "metadata": {},
   "outputs": [],
   "source": [
    "consumer_key = 'HMNx5t9S6PJqglnb9kboYtZgq'\n",
    "consumer_secret = 'kQMnxYlO1BFGjccvWiTLt69QdrYIEWE1X4iKz0MQqRnbrBHEPQ'\n",
    "access_token = '3112767474-K2tNQiPx8MekqmqFZ4thh0OS5q4zkrAoJDY8NqC'\n",
    "access_secret = '93oXUB570inlg8nO4foBTxgcuo2QLuGfJnbIIKwSfCdBl'"
   ]
  },
  {
   "cell_type": "code",
   "execution_count": 20,
   "id": "underlying-gardening",
   "metadata": {},
   "outputs": [],
   "source": [
    "class TweetsListener (StreamListener):\n",
    "    def __init__ (self,csocket):\n",
    "        self.client_socket = csocket\n",
    "        \n",
    "        def on_data(self, data):\n",
    "            try:\n",
    "                \n",
    "                msg = json.loads(data)\n",
    "                print(msg['text'].encoder('utf-8'))\n",
    "                \n",
    "                self.client_socket.send(msg['text'].encode('utf-8'))\n",
    "                return True\n",
    "        \n",
    "            except BaseException as e:\n",
    "                print(\"Error on_data: %s\" % str(e))\n",
    "                return True\n",
    "        \n",
    "        def on_error(self, status):\n",
    "            print(status)\n",
    "            return True\n",
    "                "
   ]
  },
  {
   "cell_type": "code",
   "execution_count": 21,
   "id": "adopted-material",
   "metadata": {},
   "outputs": [],
   "source": [
    "def sendData(c_socket):\n",
    "    auth = OAuthHandler(consumer_key, consumer_secret)\n",
    "    auth.set_access_token(access_token, access_secret)\n",
    "    twitter_stream = Stream(auth, TwitterListener(c_socket))\n",
    "    twitter_stream.filter(trace=['machinelearning'])"
   ]
  },
  {
   "cell_type": "code",
   "execution_count": 22,
   "id": "systematic-preparation",
   "metadata": {},
   "outputs": [
    {
     "name": "stdout",
     "output_type": "stream",
     "text": [
      "Listening on port: 9999\n"
     ]
    }
   ],
   "source": [
    "s = socket.socket()\n",
    "host = \"127.0.0.1\"\n",
    "port = 9999\n",
    "s.bind((host,port))\n",
    "print(\"Listening on port: %s\" %str(port))"
   ]
  },
  {
   "cell_type": "code",
   "execution_count": null,
   "id": "equal-parker",
   "metadata": {},
   "outputs": [],
   "source": [
    "s.listen(5)\n",
    "c, addr = s.accept()\n",
    "print(\"Received request from:\" + str(addr))"
   ]
  },
  {
   "cell_type": "code",
   "execution_count": null,
   "id": "incredible-joshua",
   "metadata": {},
   "outputs": [],
   "source": [
    "sendData(c)"
   ]
  },
  {
   "cell_type": "code",
   "execution_count": null,
   "id": "asian-hormone",
   "metadata": {},
   "outputs": [],
   "source": []
  }
 ],
 "metadata": {
  "kernelspec": {
   "display_name": "Python 3",
   "language": "python",
   "name": "python3"
  },
  "language_info": {
   "codemirror_mode": {
    "name": "ipython",
    "version": 3
   },
   "file_extension": ".py",
   "mimetype": "text/x-python",
   "name": "python",
   "nbconvert_exporter": "python",
   "pygments_lexer": "ipython3",
   "version": "3.8.5"
  }
 },
 "nbformat": 4,
 "nbformat_minor": 5
}
