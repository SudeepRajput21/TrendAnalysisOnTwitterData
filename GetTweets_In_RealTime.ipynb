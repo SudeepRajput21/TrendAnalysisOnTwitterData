{
 "cells": [
  {
   "cell_type": "markdown",
   "id": "fuzzy-montgomery",
   "metadata": {},
   "source": [
    "## Get Tweets in Real Time using Twitter API"
   ]
  },
  {
   "cell_type": "markdown",
   "id": "sublime-intensity",
   "metadata": {},
   "source": [
    "- Use tweepy library to route all Live Tweets to a TCP Server. This server is hosted in cloud.\n",
    "- OAuthHandler is used for authentication protocol(OAuth) of Twitter API.\n",
    "- StreamListener listens to stream data we get from socket."
   ]
  },
  {
   "cell_type": "code",
   "execution_count": null,
   "id": "improved-richmond",
   "metadata": {},
   "outputs": [],
   "source": [
    "import tweepy\n",
    "\n",
    "from tweepy import OAuthHandler\n",
    "\n",
    "from tweepy import Stream\n",
    "\n",
    "from tweepy.streaming import StreamListener"
   ]
  },
  {
   "cell_type": "markdown",
   "id": "breathing-legend",
   "metadata": {},
   "source": [
    "- Socket is used to create socket connection with localhost.\n",
    "- Json is used because twitter data comes in json format."
   ]
  },
  {
   "cell_type": "code",
   "execution_count": null,
   "id": "industrial-thread",
   "metadata": {},
   "outputs": [],
   "source": [
    "import socket\n",
    "import json"
   ]
  },
  {
   "cell_type": "markdown",
   "id": "terminal-tonight",
   "metadata": {},
   "source": [
    "- To generate these keys create an app in https://apps.twitter.com.\n",
    "- After creating the app, you'll get consumer_key & consumer_secret.\n",
    "- Generate access_token & access_secret by using OAuth."
   ]
  },
  {
   "cell_type": "code",
   "execution_count": null,
   "id": "continuing-grass",
   "metadata": {},
   "outputs": [],
   "source": [
    "consumer_key = 'HMNx5t9S6PJqglnb9kboYtZgq'\n",
    "consumer_secret = 'kQMnxYlO1BFGjccvWiTLt69QdrYIEWE1X4iKz0MQqRnbrBHEPQ'\n",
    "access_token = '3112767474-K2tNQiPx8MekqmqFZ4thh0OS5q4zkrAoJDY8NqC'\n",
    "access_secret = '93oXUB570inlg8nO4foBTxgcuo2QLuGfJnbIIKwSfCdBl'"
   ]
  },
  {
   "cell_type": "markdown",
   "id": "convinced-tourist",
   "metadata": {},
   "source": [
    "- class TweetListener is listening to stream via StreamListener & constructor initializes the socket.\n",
    "- data contains the tweeets in json format coming from stream. In this json object field 'text' contains actual tweet.\n",
    "- The actual tweet is extracted and sent to client socket. "
   ]
  },
  {
   "cell_type": "code",
   "execution_count": null,
   "id": "underlying-gardening",
   "metadata": {},
   "outputs": [],
   "source": [
    "class TweetsListener (StreamListener):\n",
    "    def __init__ (self,csocket):\n",
    "        self.client_socket = csocket\n",
    "        \n",
    "        def on_data(self, data):\n",
    "            try:\n",
    "                \n",
    "                msg = json.loads(data)\n",
    "                print(msg['text'].encoder('utf-8'))\n",
    "                \n",
    "                self.client_socket.send(msg['text'].encode('utf-8'))\n",
    "                return True\n",
    "        \n",
    "            except BaseException as e:\n",
    "                print(\"Error on_data: %s\" % str(e))\n",
    "                return True\n",
    "        \n",
    "        def on_error(self, status):\n",
    "            print(status)\n",
    "            return True\n",
    "                "
   ]
  },
  {
   "cell_type": "markdown",
   "id": "present-paraguay",
   "metadata": {},
   "source": [
    "- auth is doing authentication check using OAuthHandler.\n",
    "- twitter_stream will get the actual twitter live stream data. It'll call stream with auth & call the class TweetListener and     pass c_socket info to the class.\n",
    "- from stream of tweets, filter tweets."
   ]
  },
  {
   "cell_type": "code",
   "execution_count": null,
   "id": "adopted-material",
   "metadata": {},
   "outputs": [],
   "source": [
    "def sendData(c_socket):\n",
    "    auth = OAuthHandler(consumer_key, consumer_secret)\n",
    "    auth.set_access_token(access_token, access_secret)\n",
    "    twitter_stream = Stream(auth, TwitterListener(c_socket))\n",
    "    twitter_stream.filter(trace=['machinelearning'])"
   ]
  },
  {
   "cell_type": "markdown",
   "id": "hydraulic-vision",
   "metadata": {},
   "source": [
    "- Socket is created using socket function. Host is localhost where jupyter notebook is running.\n",
    "- port is 9999 (It can be anything). Bind host and port address to the socket."
   ]
  },
  {
   "cell_type": "code",
   "execution_count": null,
   "id": "systematic-preparation",
   "metadata": {},
   "outputs": [],
   "source": [
    "s = socket.socket()\n",
    "host = \"127.0.0.1\"\n",
    "port = 9999\n",
    "s.bind((host,port))\n",
    "print(\"Listening on port: %s\" %str(port))"
   ]
  },
  {
   "cell_type": "markdown",
   "id": "defensive-nebraska",
   "metadata": {},
   "source": [
    "- socket will wait and listen for few seconds after the connection is made."
   ]
  },
  {
   "cell_type": "code",
   "execution_count": null,
   "id": "equal-parker",
   "metadata": {},
   "outputs": [],
   "source": [
    "s.listen(5)\n",
    "c, addr = s.accept()\n",
    "print(\"Received request from:\" + str(addr))"
   ]
  },
  {
   "cell_type": "markdown",
   "id": "radical-counter",
   "metadata": {},
   "source": [
    "- sendData function will send all the filtered tweets to socket 'c' in real time.\n",
    "- This will be consumed in next code of Spark Streaming to do analysis."
   ]
  },
  {
   "cell_type": "code",
   "execution_count": null,
   "id": "incredible-joshua",
   "metadata": {},
   "outputs": [],
   "source": [
    "sendData(c)"
   ]
  },
  {
   "cell_type": "code",
   "execution_count": null,
   "id": "asian-hormone",
   "metadata": {},
   "outputs": [],
   "source": []
  }
 ],
 "metadata": {
  "kernelspec": {
   "display_name": "Python 3",
   "language": "python",
   "name": "python3"
  },
  "language_info": {
   "codemirror_mode": {
    "name": "ipython",
    "version": 3
   },
   "file_extension": ".py",
   "mimetype": "text/x-python",
   "name": "python",
   "nbconvert_exporter": "python",
   "pygments_lexer": "ipython3",
   "version": "3.8.5"
  }
 },
 "nbformat": 4,
 "nbformat_minor": 5
}
