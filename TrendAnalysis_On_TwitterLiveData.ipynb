{
 "cells": [
  {
   "cell_type": "markdown",
   "id": "stopped-linux",
   "metadata": {},
   "source": [
    "## Trend Analysis on Twitter Live Data Using Spark Streamimg"
   ]
  },
  {
   "cell_type": "code",
   "execution_count": null,
   "id": "french-sacramento",
   "metadata": {},
   "outputs": [],
   "source": [
    "from __future__ import print_function\n",
    "from pyspark import SparkContext\n",
    "from pyspark.streaming import StreamingContext"
   ]
  },
  {
   "cell_type": "markdown",
   "id": "western-berlin",
   "metadata": {},
   "source": [
    "- Create a sparkContext with appName 'StreamingTwitterAnalysis'\n",
    "- Set the log level of sparkContext to Error. This will not print all the logs which are Info or Warn level.\n",
    "- Create spark streaming context using sc, parameter 10 is batch interval. Every 10 seconds analysis will be done."
   ]
  },
  {
   "cell_type": "code",
   "execution_count": null,
   "id": "entitled-slovak",
   "metadata": {},
   "outputs": [],
   "source": [
    "sc = SparkContext(appName = \"StreamingTwitterAnalysis\")\n",
    "sc.setLogLevel(\"ERROR\")\n",
    "ssc = StreamingContext(sc, 10)"
   ]
  },
  {
   "cell_type": "code",
   "execution_count": null,
   "id": "little-syria",
   "metadata": {},
   "outputs": [],
   "source": [
    "#sc.stop()"
   ]
  },
  {
   "cell_type": "markdown",
   "id": "sharing-knock",
   "metadata": {},
   "source": [
    "- Connect to socket broker using ssc."
   ]
  },
  {
   "cell_type": "code",
   "execution_count": null,
   "id": "military-metallic",
   "metadata": {},
   "outputs": [],
   "source": [
    "socket_stream = ssc.socketTextStream(\"127.0.0.1\",9999)"
   ]
  },
  {
   "cell_type": "markdown",
   "id": "continuing-school",
   "metadata": {},
   "source": [
    "- Windows function parameter sets window length. All the analysis will be done on tweets stored for 60 seconds."
   ]
  },
  {
   "cell_type": "code",
   "execution_count": null,
   "id": "complex-merchant",
   "metadata": {},
   "outputs": [],
   "source": [
    "lines = socket_stream.window(60)"
   ]
  },
  {
   "cell_type": "markdown",
   "id": "apart-activation",
   "metadata": {},
   "source": [
    "- Receive tweet message, stored in lines. Splits messages into words, apply transformation on DStream: flatMap\n",
    "- Filter all words starting with '#', tranformation: filter.\n",
    "- Convert words to lowercase and map each tag to (word,1), transformation: Map\n",
    "- Then reduce and count the occurences of each hashtag(#)."
   ]
  },
  {
   "cell_type": "code",
   "execution_count": null,
   "id": "clinical-villa",
   "metadata": {},
   "outputs": [],
   "source": [
    "hashtags = lines.flatMap(lambda text: text.split(\"\").filter(lambda word: word.lower().startswith(\"#\")).map(lambda word: (word.lower(),1)).reduceByKey (lambda a,b: a+b))"
   ]
  },
  {
   "cell_type": "markdown",
   "id": "hearing-musical",
   "metadata": {},
   "source": [
    "- Sort the hashtags based on the counts in decreasing order."
   ]
  },
  {
   "cell_type": "code",
   "execution_count": null,
   "id": "everyday-gentleman",
   "metadata": {},
   "outputs": [],
   "source": [
    "author_counts_sorted_dstream = hashtags.transform(lambda foo: foo.sortBy(lambda x: x[0].lower()). sortBy(lambda x: x[1], ascending = False))"
   ]
  },
  {
   "cell_type": "markdown",
   "id": "romantic-sugar",
   "metadata": {},
   "source": [
    "- Print the final analysis. Most ppopular hashtags on streaming twitter data."
   ]
  },
  {
   "cell_type": "code",
   "execution_count": null,
   "id": "final-circumstances",
   "metadata": {},
   "outputs": [],
   "source": [
    "author_counts_sorted_dstream.pprint()"
   ]
  },
  {
   "cell_type": "markdown",
   "id": "orange-convenience",
   "metadata": {},
   "source": [
    "- ssc.start() will start spark streaming context. This is the action for whole code. Now it'll create the lineage & DAG. will     do lazy evaluation and start running the code."
   ]
  },
  {
   "cell_type": "code",
   "execution_count": null,
   "id": "cognitive-retrieval",
   "metadata": {},
   "outputs": [],
   "source": [
    "ssc.start()"
   ]
  },
  {
   "cell_type": "markdown",
   "id": "related-repair",
   "metadata": {},
   "source": [
    "- awaitTermination() is used to stop the ssc. "
   ]
  },
  {
   "cell_type": "code",
   "execution_count": null,
   "id": "functioning-nation",
   "metadata": {},
   "outputs": [],
   "source": [
    "ssc.awaitTermination()"
   ]
  },
  {
   "cell_type": "code",
   "execution_count": null,
   "id": "fifth-hanging",
   "metadata": {},
   "outputs": [],
   "source": [
    "sc.stop()"
   ]
  }
 ],
 "metadata": {
  "kernelspec": {
   "display_name": "Python 3",
   "language": "python",
   "name": "python3"
  },
  "language_info": {
   "codemirror_mode": {
    "name": "ipython",
    "version": 3
   },
   "file_extension": ".py",
   "mimetype": "text/x-python",
   "name": "python",
   "nbconvert_exporter": "python",
   "pygments_lexer": "ipython3",
   "version": "3.8.5"
  }
 },
 "nbformat": 4,
 "nbformat_minor": 5
}
